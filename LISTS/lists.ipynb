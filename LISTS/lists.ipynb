{
 "cells": [
  {
   "cell_type": "code",
   "execution_count": 7,
   "id": "db14ab85",
   "metadata": {},
   "outputs": [
    {
     "data": {
      "text/plain": [
       "[('left', 'right'), ('front', 'back')]"
      ]
     },
     "execution_count": 7,
     "metadata": {},
     "output_type": "execute_result"
    }
   ],
   "source": [
    "#Write code using zip and filter so that these lists (l1 and l2) are combined into one big list\n",
    "#and assigned to the variable opposites if they are both longer than 3 characters each.\n",
    "\n",
    "l1 = ['left', 'up', 'front']\n",
    "l2 = ['right', 'down', 'back']\n",
    "\n",
    "l3=zip(l1,l2)\n",
    "\n",
    "opposites=list(filter(lambda x: len(x[0])>3 and len(x[1])>3,l3 ))\n",
    "opposites"
   ]
  },
  {
   "cell_type": "code",
   "execution_count": 4,
   "id": "597ce175",
   "metadata": {},
   "outputs": [
    {
     "data": {
      "text/plain": [
       "[('left', 'right'), ('front', 'back')]"
      ]
     },
     "execution_count": 4,
     "metadata": {},
     "output_type": "execute_result"
    }
   ],
   "source": []
  },
  {
   "cell_type": "code",
   "execution_count": 10,
   "id": "d8376933",
   "metadata": {},
   "outputs": [
    {
     "data": {
      "text/plain": [
       "['black rhino',\n",
       " 'orangutan',\n",
       " 'sumatran elephant',\n",
       " 'blue whale',\n",
       " 'giant panda',\n",
       " 'green turtle']"
      ]
     },
     "execution_count": 10,
     "metadata": {},
     "output_type": "execute_result"
    }
   ],
   "source": [
    "# Below, we have provided a species list and a population list. \n",
    "# Use zip to combine these lists into one list of tuples called pop_info. \n",
    "# From this list, create a new list called endangered that contains the names of species\n",
    "# whose populations are below 2500.\n",
    "\n",
    "species = ['golden retriever', 'white tailed deer', 'black rhino', 'brown squirrel', 'field mouse', 'orangutan', 'sumatran elephant', 'rainbow trout', 'black bear', 'blue whale', 'water moccasin', 'giant panda', 'green turtle', 'blue jay', 'japanese beetle']\n",
    "\n",
    "population = [10000, 90000, 1000, 2000000, 500000, 500, 1200, 8000, 12000, 2300, 7500, 100, 1800, 9500, 125000]\n",
    "\n",
    "pop_info=zip(species,population)\n",
    "\n",
    "endangered=[ pop[0] for pop in pop_info if pop[1]<2500]\n",
    "endangered"
   ]
  },
  {
   "cell_type": "code",
   "execution_count": null,
   "id": "1d6db4a2",
   "metadata": {},
   "outputs": [],
   "source": []
  }
 ],
 "metadata": {
  "kernelspec": {
   "display_name": "Python 3 (ipykernel)",
   "language": "python",
   "name": "python3"
  },
  "language_info": {
   "codemirror_mode": {
    "name": "ipython",
    "version": 3
   },
   "file_extension": ".py",
   "mimetype": "text/x-python",
   "name": "python",
   "nbconvert_exporter": "python",
   "pygments_lexer": "ipython3",
   "version": "3.9.6"
  }
 },
 "nbformat": 4,
 "nbformat_minor": 5
}
