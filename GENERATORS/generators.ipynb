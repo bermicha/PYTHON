{
 "cells": [
  {
   "cell_type": "code",
   "execution_count": 24,
   "id": "3aae7f3b",
   "metadata": {},
   "outputs": [],
   "source": [
    "# we use a generator to calculate the nth fibonacci number\n",
    "\n",
    "#0 1 1 2 3 5 8 13 21 34 55 89\n",
    "\n",
    "def fib():\n",
    "    first = 0\n",
    "    second = 1\n",
    "    while True:\n",
    "        yield first\n",
    "        first,second = second, first + second\n",
    "    \n",
    "    \n",
    "g=fib()\n"
   ]
  },
  {
   "cell_type": "code",
   "execution_count": 16,
   "id": "724ff6c4",
   "metadata": {},
   "outputs": [
    {
     "name": "stdout",
     "output_type": "stream",
     "text": [
      "I will yield!\n"
     ]
    },
    {
     "data": {
      "text/plain": [
       "0"
      ]
     },
     "execution_count": 16,
     "metadata": {},
     "output_type": "execute_result"
    }
   ],
   "source": [
    "next(g)"
   ]
  },
  {
   "cell_type": "code",
   "execution_count": 17,
   "id": "4df6c2a2",
   "metadata": {},
   "outputs": [
    {
     "name": "stdout",
     "output_type": "stream",
     "text": [
      "baaa I did the yield!\n",
      "I will yield!\n"
     ]
    },
    {
     "data": {
      "text/plain": [
       "1"
      ]
     },
     "execution_count": 17,
     "metadata": {},
     "output_type": "execute_result"
    }
   ],
   "source": [
    "next(g)"
   ]
  },
  {
   "cell_type": "code",
   "execution_count": 18,
   "id": "ab675c66",
   "metadata": {},
   "outputs": [
    {
     "name": "stdout",
     "output_type": "stream",
     "text": [
      "baaa I did the yield!\n",
      "I will yield!\n"
     ]
    },
    {
     "data": {
      "text/plain": [
       "1"
      ]
     },
     "execution_count": 18,
     "metadata": {},
     "output_type": "execute_result"
    }
   ],
   "source": [
    "next(g)"
   ]
  },
  {
   "cell_type": "code",
   "execution_count": 35,
   "id": "d0d05bfe",
   "metadata": {},
   "outputs": [],
   "source": [
    "# now we write another function fibn() to call the fib() generator and print the n first fibonacci numbers\n",
    "def fibn(n):\n",
    "    for index,number in enumerate(fib()):\n",
    "        print (index)\n",
    "        if index == n-1:\n",
    "            return number\n"
   ]
  },
  {
   "cell_type": "code",
   "execution_count": 33,
   "id": "dcd7f8b5",
   "metadata": {},
   "outputs": [],
   "source": []
  },
  {
   "cell_type": "code",
   "execution_count": 34,
   "id": "33e97cb3",
   "metadata": {},
   "outputs": [
    {
     "name": "stdout",
     "output_type": "stream",
     "text": [
      "0\n",
      "1\n",
      "2\n",
      "3\n",
      "4\n",
      "5\n",
      "6\n",
      "7\n",
      "8\n",
      "9\n"
     ]
    },
    {
     "data": {
      "text/plain": [
       "34"
      ]
     },
     "execution_count": 34,
     "metadata": {},
     "output_type": "execute_result"
    }
   ],
   "source": [
    "fibn(10)"
   ]
  },
  {
   "cell_type": "code",
   "execution_count": null,
   "id": "31ed78ac",
   "metadata": {},
   "outputs": [],
   "source": []
  },
  {
   "cell_type": "raw",
   "id": "35214e44",
   "metadata": {},
   "source": []
  }
 ],
 "metadata": {
  "kernelspec": {
   "display_name": "Python 3 (ipykernel)",
   "language": "python",
   "name": "python3"
  },
  "language_info": {
   "codemirror_mode": {
    "name": "ipython",
    "version": 3
   },
   "file_extension": ".py",
   "mimetype": "text/x-python",
   "name": "python",
   "nbconvert_exporter": "python",
   "pygments_lexer": "ipython3",
   "version": "3.9.6"
  }
 },
 "nbformat": 4,
 "nbformat_minor": 5
}
