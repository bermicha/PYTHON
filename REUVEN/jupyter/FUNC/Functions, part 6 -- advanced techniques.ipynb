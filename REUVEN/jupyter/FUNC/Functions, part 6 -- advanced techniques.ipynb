{
 "cells": [
  {
   "cell_type": "code",
   "execution_count": 2,
   "metadata": {},
   "outputs": [
    {
     "data": {
      "text/plain": [
       "[-8, -7, -5, 2, 3, 10]"
      ]
     },
     "execution_count": 2,
     "metadata": {},
     "output_type": "execute_result"
    }
   ],
   "source": [
    "mylist = [10, -5, 2, -7, 3, -8]\n",
    "\n",
    "sorted(mylist)"
   ]
  },
  {
   "cell_type": "code",
   "execution_count": 3,
   "metadata": {},
   "outputs": [
    {
     "data": {
      "text/plain": [
       "5"
      ]
     },
     "execution_count": 3,
     "metadata": {},
     "output_type": "execute_result"
    }
   ],
   "source": [
    "abs(-5)"
   ]
  },
  {
   "cell_type": "code",
   "execution_count": 4,
   "metadata": {},
   "outputs": [
    {
     "data": {
      "text/plain": [
       "5"
      ]
     },
     "execution_count": 4,
     "metadata": {},
     "output_type": "execute_result"
    }
   ],
   "source": [
    "abs(5)"
   ]
  },
  {
   "cell_type": "code",
   "execution_count": 5,
   "metadata": {},
   "outputs": [
    {
     "data": {
      "text/plain": [
       "[2, 3, -5, -7, -8, 10]"
      ]
     },
     "execution_count": 5,
     "metadata": {},
     "output_type": "execute_result"
    }
   ],
   "source": [
    "sorted(mylist, key=abs)"
   ]
  },
  {
   "cell_type": "code",
   "execution_count": 6,
   "metadata": {
    "collapsed": true
   },
   "outputs": [
    {
     "name": "stdout",
     "output_type": "stream",
     "text": [
      "Help on built-in function sorted in module builtins:\n",
      "\n",
      "sorted(iterable, /, *, key=None, reverse=False)\n",
      "    Return a new list containing all items from the iterable in ascending order.\n",
      "    \n",
      "    A custom key function can be supplied to customize the sort order, and the\n",
      "    reverse flag can be set to request the result in descending order.\n",
      "\n"
     ]
    }
   ],
   "source": [
    "help(sorted)"
   ]
  },
  {
   "cell_type": "code",
   "execution_count": 8,
   "metadata": {},
   "outputs": [
    {
     "data": {
      "text/plain": [
       "['a', 'is', 'of', 'my', 'for', 'this', 'bunch', 'words', 'course']"
      ]
     },
     "execution_count": 8,
     "metadata": {},
     "output_type": "execute_result"
    }
   ],
   "source": [
    "words = 'this is a bunch of words for my course'.split()\n",
    "\n",
    "sorted(words, key=len)"
   ]
  },
  {
   "cell_type": "code",
   "execution_count": 9,
   "metadata": {},
   "outputs": [
    {
     "data": {
      "text/plain": [
       "['course', 'bunch', 'words', 'this', 'for', 'is', 'of', 'my', 'a']"
      ]
     },
     "execution_count": 9,
     "metadata": {},
     "output_type": "execute_result"
    }
   ],
   "source": [
    "sorted(words, key=len, reverse=True)"
   ]
  },
  {
   "cell_type": "code",
   "execution_count": 10,
   "metadata": {},
   "outputs": [
    {
     "name": "stdout",
     "output_type": "stream",
     "text": [
      "Now checking this\n",
      "Now checking is\n",
      "Now checking a\n",
      "Now checking bunch\n",
      "Now checking of\n",
      "Now checking words\n",
      "Now checking for\n",
      "Now checking my\n",
      "Now checking course\n"
     ]
    },
    {
     "data": {
      "text/plain": [
       "['a', 'is', 'of', 'my', 'for', 'this', 'bunch', 'words', 'course']"
      ]
     },
     "execution_count": 10,
     "metadata": {},
     "output_type": "execute_result"
    }
   ],
   "source": [
    "def very_loud_len(one_word):\n",
    "    print(f\"Now checking {one_word}\")\n",
    "    return len(one_word)\n",
    "\n",
    "sorted(words, key=very_loud_len)"
   ]
  },
  {
   "cell_type": "code",
   "execution_count": 19,
   "metadata": {},
   "outputs": [
    {
     "name": "stdout",
     "output_type": "stream",
     "text": [
      "Now running hello\n",
      "args = \"()\"\n",
      "kwargs = \"{}\"\n",
      "value = \"Hello\"\n",
      "Done running hello\n"
     ]
    },
    {
     "data": {
      "text/plain": [
       "'Hello'"
      ]
     },
     "execution_count": 19,
     "metadata": {},
     "output_type": "execute_result"
    }
   ],
   "source": [
    "def add(a, b):\n",
    "    return a + b\n",
    "\n",
    "def sub(a, b):\n",
    "    return a - b\n",
    "\n",
    "def hello():\n",
    "    return \"Hello\"\n",
    "\n",
    "def very_loud_apply(func, *args, **kwargs):\n",
    "    print(f\"Now running {func.__name__}\")\n",
    "    print(f'args = \"{args}\"')\n",
    "    print(f'kwargs = \"{kwargs}\"')\n",
    "    value = func(*args, **kwargs)\n",
    "    print(f'value = \"{value}\"')\n",
    "    print(f\"Done running {func.__name__}\")\n",
    "    return value\n",
    "\n",
    "very_loud_apply(hello)"
   ]
  },
  {
   "cell_type": "code",
   "execution_count": 20,
   "metadata": {},
   "outputs": [
    {
     "name": "stdout",
     "output_type": "stream",
     "text": [
      "Now running add\n",
      "args = \"(2, 3)\"\n",
      "kwargs = \"{}\"\n",
      "value = \"5\"\n",
      "Done running add\n"
     ]
    },
    {
     "data": {
      "text/plain": [
       "5"
      ]
     },
     "execution_count": 20,
     "metadata": {},
     "output_type": "execute_result"
    }
   ],
   "source": [
    "very_loud_apply(add, 2, 3)"
   ]
  },
  {
   "cell_type": "code",
   "execution_count": 21,
   "metadata": {},
   "outputs": [
    {
     "name": "stdout",
     "output_type": "stream",
     "text": [
      "Now running sub\n",
      "args = \"(10, 3)\"\n",
      "kwargs = \"{}\"\n",
      "value = \"7\"\n",
      "Done running sub\n"
     ]
    },
    {
     "data": {
      "text/plain": [
       "7"
      ]
     },
     "execution_count": 21,
     "metadata": {},
     "output_type": "execute_result"
    }
   ],
   "source": [
    "very_loud_apply(sub, 10, 3)"
   ]
  },
  {
   "cell_type": "code",
   "execution_count": 22,
   "metadata": {},
   "outputs": [
    {
     "name": "stdout",
     "output_type": "stream",
     "text": [
      "Now running mul\n",
      "args = \"()\"\n",
      "kwargs = \"{'a': 100, 'b': 3}\"\n",
      "value = \"300\"\n",
      "Done running mul\n"
     ]
    },
    {
     "data": {
      "text/plain": [
       "300"
      ]
     },
     "execution_count": 22,
     "metadata": {},
     "output_type": "execute_result"
    }
   ],
   "source": [
    "def mul(a, b):\n",
    "    return a * b\n",
    "\n",
    "very_loud_apply(mul, a=100, b=3)"
   ]
  },
  {
   "cell_type": "code",
   "execution_count": 24,
   "metadata": {},
   "outputs": [
    {
     "data": {
      "text/plain": [
       "30"
      ]
     },
     "execution_count": 24,
     "metadata": {},
     "output_type": "execute_result"
    }
   ],
   "source": [
    "def total_word_lengths(words):\n",
    "    total = 0\n",
    "    for one_word in words:\n",
    "        total += len(one_word)\n",
    "    return total\n",
    "\n",
    "total_word_lengths(words)"
   ]
  },
  {
   "cell_type": "code",
   "execution_count": 26,
   "metadata": {},
   "outputs": [
    {
     "data": {
      "text/plain": [
       "[4, 2, 1, 5, 2, 5, 3, 2, 6]"
      ]
     },
     "execution_count": 26,
     "metadata": {},
     "output_type": "execute_result"
    }
   ],
   "source": [
    "def apply_to_strings(list_of_strings, func):\n",
    "    output = []\n",
    "    for one_string in list_of_strings:\n",
    "        output.append(func(one_string))\n",
    "    return output\n",
    "\n",
    "apply_to_strings(words, len)"
   ]
  },
  {
   "cell_type": "code",
   "execution_count": 27,
   "metadata": {},
   "outputs": [
    {
     "data": {
      "text/plain": [
       "['THIS', 'IS', 'A', 'BUNCH', 'OF', 'WORDS', 'FOR', 'MY', 'COURSE']"
      ]
     },
     "execution_count": 27,
     "metadata": {},
     "output_type": "execute_result"
    }
   ],
   "source": [
    "apply_to_strings(words, str.upper)"
   ]
  },
  {
   "cell_type": "code",
   "execution_count": 28,
   "metadata": {},
   "outputs": [
    {
     "data": {
      "text/plain": [
       "['0x4', '0x2', '0x1', '0x5', '0x2', '0x5', '0x3', '0x2', '0x6']"
      ]
     },
     "execution_count": 28,
     "metadata": {},
     "output_type": "execute_result"
    }
   ],
   "source": [
    "def hexlen(s):\n",
    "    return hex(len(s))\n",
    "\n",
    "apply_to_strings(words, hexlen)"
   ]
  },
  {
   "cell_type": "code",
   "execution_count": 30,
   "metadata": {},
   "outputs": [
    {
     "data": {
      "text/plain": [
       "['THIS', 'IS', 'A', 'BUNCH', 'OF', 'WORDS', 'FOR', 'MY', 'COURSE']"
      ]
     },
     "execution_count": 30,
     "metadata": {},
     "output_type": "execute_result"
    }
   ],
   "source": [
    "# map -- takes a function and a sequence\n",
    "\n",
    "list(map(str.upper, words))"
   ]
  },
  {
   "cell_type": "code",
   "execution_count": 32,
   "metadata": {},
   "outputs": [
    {
     "name": "stdout",
     "output_type": "stream",
     "text": [
      "Enter math expression: 5 ! 3\n",
      "Operator ! not recognized\n",
      "Enter math expression: \n"
     ]
    }
   ],
   "source": [
    "while True:\n",
    "    s = input(\"Enter math expression: \").strip()\n",
    "    \n",
    "    if not s:\n",
    "        break\n",
    "        \n",
    "    first, op, second = s.split()\n",
    "    first = int(first)\n",
    "    second = int(second)\n",
    "    \n",
    "    if op == '+':\n",
    "        print(first + second)\n",
    "    elif op == '-':\n",
    "        print(first - second)\n",
    "    elif op == '*':\n",
    "        print(first * second)\n",
    "    elif op == '/':\n",
    "        print(first / second)\n",
    "    else:\n",
    "        print(f\"Operator {op} not recognized\")\n",
    "        "
   ]
  },
  {
   "cell_type": "code",
   "execution_count": 37,
   "metadata": {},
   "outputs": [
    {
     "name": "stdout",
     "output_type": "stream",
     "text": [
      "Enter math expression: 100 / 6\n",
      "16.666666666666668\n",
      "Enter math expression: 2 * 9\n",
      "18\n",
      "Enter math expression: \n"
     ]
    }
   ],
   "source": [
    "def add(a, b):\n",
    "    return a + b\n",
    "\n",
    "def sub(a, b):\n",
    "    return a - b\n",
    "\n",
    "def mul(a, b):\n",
    "    return a * b\n",
    "\n",
    "def div(a, b):\n",
    "    return a / b\n",
    "\n",
    "# dispatch table\n",
    "math_ops = {'+': add,\n",
    "           '-': sub,\n",
    "           '*':mul,\n",
    "           '/':div}\n",
    "\n",
    "while True:\n",
    "    s = input(\"Enter math expression: \").strip()\n",
    "    \n",
    "    if not s:\n",
    "        break\n",
    "        \n",
    "    first, op, second = s.split()\n",
    "    first = int(first)\n",
    "    second = int(second)\n",
    "    \n",
    "    if op in math_ops:\n",
    "        print(math_ops[op](first, second))\n",
    "    else:\n",
    "        print(f\"Operator {op} not recognized\")\n",
    "        "
   ]
  },
  {
   "cell_type": "code",
   "execution_count": 41,
   "metadata": {
    "scrolled": true
   },
   "outputs": [
    {
     "name": "stdout",
     "output_type": "stream",
     "text": [
      "Enter math expression: 10 + 5\n",
      "15\n",
      "Enter math expression: 100 - 200\n",
      "-100\n",
      "Enter math expression: 10 / 8\n",
      "1.25\n",
      "Enter math expression: \n"
     ]
    }
   ],
   "source": [
    "import operator\n",
    "\n",
    "# dispatch table\n",
    "math_ops = {'+': operator.add,\n",
    "           '-': operator.sub,\n",
    "           '*': operator.mul,\n",
    "           '/': operator.truediv}\n",
    "\n",
    "while True:\n",
    "    s = input(\"Enter math expression: \").strip()\n",
    "    \n",
    "    if not s:\n",
    "        break\n",
    "        \n",
    "    first, op, second = s.split()\n",
    "    first = int(first)\n",
    "    second = int(second)\n",
    "    \n",
    "    if op in math_ops:\n",
    "        print(math_ops[op](first, second))\n",
    "    else:\n",
    "        print(f\"Operator {op} not recognized\")\n",
    "        "
   ]
  },
  {
   "cell_type": "code",
   "execution_count": 45,
   "metadata": {},
   "outputs": [
    {
     "name": "stdout",
     "output_type": "stream",
     "text": [
      "Enter a sentence: This is a test sentence for my Python course\n"
     ]
    },
    {
     "data": {
      "text/plain": [
       "['This', 'is', 'a', 'test', 'sentence', 'for', 'my', 'Python', 'course']"
      ]
     },
     "execution_count": 45,
     "metadata": {},
     "output_type": "execute_result"
    }
   ],
   "source": [
    "# (1) Ask the user to enter a sentence. Sort the words alphabetically, ignoring capitalization.\n",
    "\n",
    "s = input(\"Enter a sentence: \").split()\n",
    "\n",
    "s"
   ]
  },
  {
   "cell_type": "code",
   "execution_count": 47,
   "metadata": {},
   "outputs": [
    {
     "data": {
      "text/plain": [
       "['a', 'course', 'for', 'is', 'my', 'Python', 'sentence', 'test', 'This']"
      ]
     },
     "execution_count": 47,
     "metadata": {},
     "output_type": "execute_result"
    }
   ],
   "source": [
    "sorted(s, key=str.lower)"
   ]
  },
  {
   "cell_type": "code",
   "execution_count": 49,
   "metadata": {},
   "outputs": [],
   "source": [
    "# (2) Write a function that takes a function, as well as any number of\n",
    "#     positional arguments. The arguments should all be\n",
    "#     filenames. Return a dictionary whose keys are the filenames and\n",
    "#     the values are the results of invoking the function on each\n",
    "#     filename.\n",
    "\n",
    "def apply_to_args(func, *args):\n",
    "    output = {}\n",
    "    for one_arg in args:\n",
    "        output[one_arg] = func(one_arg)\n",
    "    \n",
    "    return output"
   ]
  },
  {
   "cell_type": "code",
   "execution_count": 51,
   "metadata": {},
   "outputs": [
    {
     "data": {
      "text/plain": [
       "{-5: 5, -4: 4, -3: 3, -2: 2, -1: 1, 0: 0, 1: 1, 2: 2, 3: 3, 4: 4}"
      ]
     },
     "execution_count": 51,
     "metadata": {},
     "output_type": "execute_result"
    }
   ],
   "source": [
    "apply_to_args(abs, *(range(-5, 5)))"
   ]
  },
  {
   "cell_type": "code",
   "execution_count": 53,
   "metadata": {},
   "outputs": [
    {
     "data": {
      "text/plain": [
       "{'/etc/passwd': 6946, 'exercise-3.txt': 968, 'myconfig.txt': 16}"
      ]
     },
     "execution_count": 53,
     "metadata": {},
     "output_type": "execute_result"
    }
   ],
   "source": [
    "def file_size(filename):\n",
    "    total = 0\n",
    "    for one_line in open(filename):\n",
    "        total += len(one_line)\n",
    "    return total\n",
    "\n",
    "apply_to_args(file_size, '/etc/passwd', \n",
    "              'exercise-3.txt', 'myconfig.txt')"
   ]
  },
  {
   "cell_type": "code",
   "execution_count": 54,
   "metadata": {},
   "outputs": [],
   "source": [
    "# dict comprehension \n",
    "\n",
    "def apply_to_args(func, *args):\n",
    "    return {one_arg : func(one_arg)\n",
    "            for one_arg in args}\n"
   ]
  },
  {
   "cell_type": "code",
   "execution_count": 55,
   "metadata": {},
   "outputs": [
    {
     "data": {
      "text/plain": [
       "{'/etc/passwd': 6946, 'exercise-3.txt': 968, 'myconfig.txt': 16}"
      ]
     },
     "execution_count": 55,
     "metadata": {},
     "output_type": "execute_result"
    }
   ],
   "source": [
    "apply_to_args(file_size, '/etc/passwd', \n",
    "              'exercise-3.txt', 'myconfig.txt')"
   ]
  },
  {
   "cell_type": "code",
   "execution_count": 1,
   "metadata": {},
   "outputs": [
    {
     "name": "stdout",
     "output_type": "stream",
     "text": [
      "Enter command: ll /etc ./\n",
      "No such command ll\n",
      "Enter command: ls /etc ./\n"
     ]
    },
    {
     "ename": "TypeError",
     "evalue": "listdir() takes at most 1 argument (2 given)",
     "output_type": "error",
     "traceback": [
      "\u001b[0;31m---------------------------------------------------------------------------\u001b[0m",
      "\u001b[0;31mTypeError\u001b[0m                                 Traceback (most recent call last)",
      "\u001b[0;32m/var/folders/07/j1t9hxc130395bfc9cw59jdr0000gn/T/ipykernel_2070/4026207332.py\u001b[0m in \u001b[0;36m<module>\u001b[0;34m\u001b[0m\n\u001b[1;32m     23\u001b[0m \u001b[0;34m\u001b[0m\u001b[0m\n\u001b[1;32m     24\u001b[0m     \u001b[0;32mif\u001b[0m \u001b[0mcommand\u001b[0m \u001b[0;32min\u001b[0m \u001b[0moperations\u001b[0m\u001b[0;34m:\u001b[0m\u001b[0;34m\u001b[0m\u001b[0;34m\u001b[0m\u001b[0m\n\u001b[0;32m---> 25\u001b[0;31m         \u001b[0mprint\u001b[0m\u001b[0;34m(\u001b[0m\u001b[0moperations\u001b[0m\u001b[0;34m[\u001b[0m\u001b[0mcommand\u001b[0m\u001b[0;34m]\u001b[0m\u001b[0;34m(\u001b[0m\u001b[0;34m*\u001b[0m\u001b[0margs\u001b[0m\u001b[0;34m)\u001b[0m\u001b[0;34m)\u001b[0m\u001b[0;34m\u001b[0m\u001b[0;34m\u001b[0m\u001b[0m\n\u001b[0m\u001b[1;32m     26\u001b[0m     \u001b[0;32melse\u001b[0m\u001b[0;34m:\u001b[0m\u001b[0;34m\u001b[0m\u001b[0;34m\u001b[0m\u001b[0m\n\u001b[1;32m     27\u001b[0m         \u001b[0mprint\u001b[0m\u001b[0;34m(\u001b[0m\u001b[0;34mf'No such command {command}'\u001b[0m\u001b[0;34m)\u001b[0m\u001b[0;34m\u001b[0m\u001b[0;34m\u001b[0m\u001b[0m\n",
      "\u001b[0;31mTypeError\u001b[0m: listdir() takes at most 1 argument (2 given)"
     ]
    }
   ],
   "source": [
    "# (3) Create a dispatch table in which each function takes one or more\n",
    "#     positional arguments. Then ask the user to repeatedly enter a\n",
    "#     string, in which the first word will be the key to the dispatch\n",
    "#     table, and the rest of the line will be treated as a list of\n",
    "#     arguments.  Make it possible for an end user to invoke a function via\n",
    "#     a command.\n",
    "\n",
    "import os\n",
    "\n",
    "def get_file_contents(filename):\n",
    "    return open(filename).read()\n",
    "\n",
    "operations = {'ls': os.listdir,\n",
    "             'cat': get_file_contents}\n",
    "\n",
    "while True:\n",
    "    s = input(\"Enter command: \").strip()\n",
    "    \n",
    "    command, *args = s.split()\n",
    "\n",
    "    if not command:\n",
    "        break\n",
    "        \n",
    "    if command in operations:\n",
    "        print(operations[command](*args))\n",
    "    else:\n",
    "        print(f'No such command {command}')"
   ]
  },
  {
   "cell_type": "code",
   "execution_count": null,
   "metadata": {},
   "outputs": [],
   "source": []
  }
 ],
 "metadata": {
  "kernelspec": {
   "display_name": "Python 3 (ipykernel)",
   "language": "python",
   "name": "python3"
  },
  "language_info": {
   "codemirror_mode": {
    "name": "ipython",
    "version": 3
   },
   "file_extension": ".py",
   "mimetype": "text/x-python",
   "name": "python",
   "nbconvert_exporter": "python",
   "pygments_lexer": "ipython3",
   "version": "3.9.6"
  }
 },
 "nbformat": 4,
 "nbformat_minor": 2
}
